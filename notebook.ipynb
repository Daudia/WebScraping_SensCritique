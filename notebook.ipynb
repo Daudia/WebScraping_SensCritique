{
 "cells": [
  {
   "cell_type": "markdown",
   "source": [
    "# 0. Libraries import"
   ],
   "metadata": {
    "collapsed": false
   }
  },
  {
   "cell_type": "code",
   "execution_count": null,
   "outputs": [],
   "source": [
    "import time\n",
    "import requests\n",
    "from bs4 import BeautifulSoup\n",
    "import sqlite3\n",
    "from selenium import webdriver"
   ],
   "metadata": {
    "collapsed": false
   }
  },
  {
   "cell_type": "markdown",
   "source": [
    "# 1. Accessing the data\n",
    "\n",
    "The Top 100 page shows the list of the SensCritique users Top 100 favorites albums. On this page are accessible some data on each album but some relevant information are only displayed on each individual album page.\n",
    "Thus, we need to gather all the urls of these individual pages.\n",
    "\n",
    "## Connection to the main page\n",
    "\n",
    "As the page we are willing to scrap only display the first half of the albums when first loaded, we use Selenium which is an automated browser control librariesto automatically scroll to the bottom of the page.\n",
    "Then, we wait a few seconds thanks to the *time* library to be sure the second half of the page is displayed before we start scraping the data."
   ],
   "metadata": {
    "collapsed": false
   }
  },
  {
   "cell_type": "code",
   "execution_count": null,
   "outputs": [],
   "source": [
    "driver = webdriver.Chrome()\n",
    "driver.get('https://www.senscritique.com/musique/tops/top100-des-top10')\n",
    "driver.execute_script(\"window.scrollTo(0, document.body.scrollHeight);\")\n",
    "time.sleep(10)"
   ],
   "metadata": {
    "collapsed": false
   }
  },
  {
   "cell_type": "markdown",
   "source": [
    "## Parsing the main page\n",
    "\n",
    "We use BeautifulSoup to parse the HTML code we stored in the *driver* variable"
   ],
   "metadata": {
    "collapsed": false
   }
  },
  {
   "cell_type": "code",
   "execution_count": null,
   "outputs": [],
   "source": [
    "soup = BeautifulSoup(driver.page_source, 'html.parser')\n",
    "\n",
    "driver.quit()"
   ],
   "metadata": {
    "collapsed": false
   }
  },
  {
   "cell_type": "markdown",
   "source": [
    "## Gathering all the individual album page urls\n",
    "\n",
    "As all the information we are seeking are not displayed on the Top 100 page, we need to scrap those data in the individual page of each album. In order to do so, we collect url of all the clickable links corresponding to each album.\n",
    "\n",
    "All the pages have the same url structure, so we concatenate both the SensCritique main site url and the extensions we collected, corresponding to each album. Finally, we obtain a list with the urls of all the Top 100 album."
   ],
   "metadata": {
    "collapsed": false
   }
  },
  {
   "cell_type": "code",
   "execution_count": null,
   "outputs": [],
   "source": [
    "album_titles = soup.find_all('a', {\n",
    "    'class': 'Text__SCText-sc-kgt5u3-0 Link__SecondaryLink-sc-1vfcbn2-1 gwWwBt eDKWEX '\n",
    "             'ProductListItem__StyledProductTitle-sc-ico7lo-3 ivaIVy'},\n",
    "                             href=True)\n",
    "\n",
    "href = []\n",
    "\n",
    "for i in range(len(album_titles)):\n",
    "    href.append(\"https://www.senscritique.com\" + album_titles[i]['href'])"
   ],
   "metadata": {
    "collapsed": false
   }
  },
  {
   "cell_type": "markdown",
   "source": [
    "# 2. Individual page scraping\n",
    "\n",
    "## List initialization\n",
    "\n",
    "On each album page, we use BeautifulSoup to collect the following data :\n",
    "- The title\n",
    "- The publication year\n",
    "- The artist name\n",
    "- The number of ratings\n",
    "- The number of time the album was added to a user registered ones\n",
    "- The global rating\n",
    "- The number of time the album was added to a user favorites ones\n",
    "\n",
    "We first initialize the lists that will be containing all the scraped data."
   ],
   "metadata": {
    "collapsed": false
   }
  },
  {
   "cell_type": "code",
   "execution_count": null,
   "outputs": [],
   "source": [
    "title_list = []\n",
    "publication_year_list = []\n",
    "artist_list = []\n",
    "number_of_rating_list = []\n",
    "global_rating_list = []\n",
    "registered_number_list = []\n",
    "favorite_number_list = []"
   ],
   "metadata": {
    "collapsed": false
   }
  },
  {
   "cell_type": "markdown",
   "source": [
    "## Scraping each album data"
   ],
   "metadata": {
    "collapsed": false
   }
  },
  {
   "cell_type": "code",
   "execution_count": null,
   "outputs": [],
   "source": [
    "for i in range(len(href)):\n",
    "    html = requests.get(href[i])\n",
    "\n",
    "    soup = BeautifulSoup(html.content, 'html.parser')\n",
    "\n",
    "    album_title = soup.find_all('h1')\n",
    "    title_list.append(album_title[0]['title'])\n",
    "\n",
    "    publication_year = soup.find_all('p', {\n",
    "        'class': 'Text__SCTitle-sc-kgt5u3-1 CoverProductInfos__StyledText-sc-cbcfd0-10 hDmvGP fnFfaR'})\n",
    "    publication_year_list.append(publication_year[0].text)\n",
    "\n",
    "    artist = soup.find_all('span', href=True)\n",
    "    artist_list.append(artist[0].text)\n",
    "\n",
    "    number_of_rating_and_registered = soup.find_all('p', {\n",
    "        'class': 'Text__SCText-sc-kgt5u3-0 Stats__Text-sc-l0a962-2 hrLruZ IwdGM'})\n",
    "    number_of_rating_list.append(number_of_rating_and_registered[0].text)\n",
    "    registered_number_list.append(number_of_rating_and_registered[1].text)\n",
    "\n",
    "    global_rating = soup.find_all('div', {'class': 'Rating__GlobalRating-sc-1rkvzid-5 eCIKNi'})\n",
    "    global_rating_list.append(global_rating[0].text)\n",
    "\n",
    "    favorite_number = soup.find_all('p', {'class': 'Text__SCText-sc-kgt5u3-0 Stats__Text-sc-l0a962-2 hrLruZ FlIXF'})\n",
    "    favorite_number_list.append(favorite_number[0].text)"
   ],
   "metadata": {
    "collapsed": false
   }
  },
  {
   "cell_type": "markdown",
   "source": [
    "After being scraped, data are stored in the corresponding list."
   ],
   "metadata": {
    "collapsed": false
   }
  },
  {
   "cell_type": "markdown",
   "source": [
    "# 3. Storing data in a database\n",
    "\n",
    "## Creating the database\n",
    "\n",
    "We first create a database called *album_top_100.db* and then create a table with all the required columns."
   ],
   "metadata": {
    "collapsed": false
   }
  },
  {
   "cell_type": "code",
   "execution_count": null,
   "outputs": [],
   "source": [
    "conn = sqlite3.connect('album_top_100.db')\n",
    "\n",
    "conn.execute('''\n",
    "    CREATE TABLE album_top_100\n",
    "    (ranking INTEGER PRIMARY KEY,\n",
    "    title VARCHAR(100),\n",
    "    publication_year INTEGER,\n",
    "    artist VARCHAR(100),\n",
    "    global_rating FLOAT,\n",
    "    rating_number INTEGER,\n",
    "    registered_number INTEGER,\n",
    "    favorite_number INTEGER)\n",
    "''')"
   ],
   "metadata": {
    "collapsed": false
   }
  },
  {
   "cell_type": "markdown",
   "source": [
    "## Inserting data in the database\n",
    "\n",
    "After creating the table, we add all the data we gathered to the database for each album."
   ],
   "metadata": {
    "collapsed": false
   }
  },
  {
   "cell_type": "code",
   "execution_count": null,
   "outputs": [],
   "source": [
    "for i in range(len(href)):\n",
    "    conn.execute(\n",
    "        'INSERT INTO album_top_100 (ranking, title, publication_year, artist, global_rating, rating_number, '\n",
    "        'registered_number, favorite_number) VALUES (?, ?, ?, ?, ?, ?, ?, ?)',\n",
    "        (\n",
    "            i + 1, title_list[i], publication_year_list[i], artist_list[i], global_rating_list[i],\n",
    "            number_of_rating_list[i],\n",
    "            registered_number_list[i], favorite_number_list[i]))"
   ],
   "metadata": {
    "collapsed": false
   }
  },
  {
   "cell_type": "markdown",
   "source": [
    "## Database exiting\n",
    "\n",
    "To update the database, we commit our changes and then end the connection."
   ],
   "metadata": {
    "collapsed": false
   }
  },
  {
   "cell_type": "code",
   "execution_count": null,
   "outputs": [],
   "source": [
    "conn.commit()\n",
    "\n",
    "conn.close()"
   ],
   "metadata": {
    "collapsed": false
   }
  }
 ],
 "metadata": {
  "kernelspec": {
   "display_name": "Python 3",
   "language": "python",
   "name": "python3"
  },
  "language_info": {
   "codemirror_mode": {
    "name": "ipython",
    "version": 2
   },
   "file_extension": ".py",
   "mimetype": "text/x-python",
   "name": "python",
   "nbconvert_exporter": "python",
   "pygments_lexer": "ipython2",
   "version": "2.7.6"
  }
 },
 "nbformat": 4,
 "nbformat_minor": 0
}
